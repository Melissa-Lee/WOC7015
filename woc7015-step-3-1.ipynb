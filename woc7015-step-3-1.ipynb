{
 "cells": [
  {
   "cell_type": "code",
   "execution_count": 1,
   "id": "a05f4513",
   "metadata": {
    "_cell_guid": "b1076dfc-b9ad-4769-8c92-a6c4dae69d19",
    "_uuid": "8f2839f25d086af736a60e9eeb907d3b93b6e0e5",
    "execution": {
     "iopub.execute_input": "2024-12-22T09:37:41.130039Z",
     "iopub.status.busy": "2024-12-22T09:37:41.129580Z",
     "iopub.status.idle": "2024-12-22T09:37:41.995873Z",
     "shell.execute_reply": "2024-12-22T09:37:41.994152Z"
    },
    "papermill": {
     "duration": 0.875367,
     "end_time": "2024-12-22T09:37:41.998424",
     "exception": false,
     "start_time": "2024-12-22T09:37:41.123057",
     "status": "completed"
    },
    "tags": []
   },
   "outputs": [
    {
     "name": "stdout",
     "output_type": "stream",
     "text": [
      "/kaggle/input/positive-and-negative-test-cases/Labelled_Test_Cases.csv\n"
     ]
    }
   ],
   "source": [
    "# This Python 3 environment comes with many helpful analytics libraries installed\n",
    "# It is defined by the kaggle/python Docker image: https://github.com/kaggle/docker-python\n",
    "# For example, here's several helpful packages to load\n",
    "\n",
    "import numpy as np # linear algebra\n",
    "import pandas as pd # data processing, CSV file I/O (e.g. pd.read_csv)\n",
    "\n",
    "# Input data files are available in the read-only \"../input/\" directory\n",
    "# For example, running this (by clicking run or pressing Shift+Enter) will list all files under the input directory\n",
    "\n",
    "import os\n",
    "for dirname, _, filenames in os.walk('/kaggle/input'):\n",
    "    for filename in filenames:\n",
    "        print(os.path.join(dirname, filename))\n",
    "\n",
    "# You can write up to 20GB to the current directory (/kaggle/working/) that gets preserved as output when you create a version using \"Save & Run All\" \n",
    "# You can also write temporary files to /kaggle/temp/, but they won't be saved outside of the current session"
   ]
  },
  {
   "cell_type": "code",
   "execution_count": 2,
   "id": "b3855772",
   "metadata": {
    "execution": {
     "iopub.execute_input": "2024-12-22T09:37:42.007971Z",
     "iopub.status.busy": "2024-12-22T09:37:42.007389Z",
     "iopub.status.idle": "2024-12-22T09:37:42.042345Z",
     "shell.execute_reply": "2024-12-22T09:37:42.041341Z"
    },
    "papermill": {
     "duration": 0.042469,
     "end_time": "2024-12-22T09:37:42.044931",
     "exception": false,
     "start_time": "2024-12-22T09:37:42.002462",
     "status": "completed"
    },
    "tags": []
   },
   "outputs": [],
   "source": [
    "# Specify the correct encoding when reading the CSV file\n",
    "# df = pd.read_csv('/kaggle/input/positive-and-negative-test-cases/Labelled_Test_Cases.csv')  \n",
    "df = pd.read_csv('/kaggle/input/positive-and-negative-test-cases/Labelled_Test_Cases.csv', encoding='latin1') \n",
    "# Try 'ISO-8859-1' or 'utf-16' if needed"
   ]
  },
  {
   "cell_type": "code",
   "execution_count": 3,
   "id": "d9355fff",
   "metadata": {
    "execution": {
     "iopub.execute_input": "2024-12-22T09:37:42.054175Z",
     "iopub.status.busy": "2024-12-22T09:37:42.053720Z",
     "iopub.status.idle": "2024-12-22T09:37:43.264621Z",
     "shell.execute_reply": "2024-12-22T09:37:43.262872Z"
    },
    "papermill": {
     "duration": 1.219169,
     "end_time": "2024-12-22T09:37:43.267855",
     "exception": false,
     "start_time": "2024-12-22T09:37:42.048686",
     "status": "completed"
    },
    "tags": []
   },
   "outputs": [],
   "source": [
    "# Encode labels to numeric values\n",
    "from sklearn.preprocessing import LabelEncoder\n",
    "label_encoder = LabelEncoder()\n",
    "df['v1'] = label_encoder.fit_transform(df['v1'])"
   ]
  },
  {
   "cell_type": "code",
   "execution_count": 4,
   "id": "b500b4dc",
   "metadata": {
    "execution": {
     "iopub.execute_input": "2024-12-22T09:37:43.283940Z",
     "iopub.status.busy": "2024-12-22T09:37:43.283377Z",
     "iopub.status.idle": "2024-12-22T09:37:43.294062Z",
     "shell.execute_reply": "2024-12-22T09:37:43.292338Z"
    },
    "papermill": {
     "duration": 0.021356,
     "end_time": "2024-12-22T09:37:43.296449",
     "exception": false,
     "start_time": "2024-12-22T09:37:43.275093",
     "status": "completed"
    },
    "tags": []
   },
   "outputs": [
    {
     "data": {
      "text/plain": [
       "(3000, 5)"
      ]
     },
     "execution_count": 4,
     "metadata": {},
     "output_type": "execute_result"
    }
   ],
   "source": [
    "# Shows the amount of rows and columns in the dataframe\n",
    "df.shape"
   ]
  },
  {
   "cell_type": "code",
   "execution_count": 5,
   "id": "138b8b62",
   "metadata": {
    "execution": {
     "iopub.execute_input": "2024-12-22T09:37:43.308362Z",
     "iopub.status.busy": "2024-12-22T09:37:43.307933Z",
     "iopub.status.idle": "2024-12-22T09:37:43.327737Z",
     "shell.execute_reply": "2024-12-22T09:37:43.326560Z"
    },
    "papermill": {
     "duration": 0.027598,
     "end_time": "2024-12-22T09:37:43.330024",
     "exception": false,
     "start_time": "2024-12-22T09:37:43.302426",
     "status": "completed"
    },
    "tags": []
   },
   "outputs": [
    {
     "data": {
      "text/html": [
       "<div>\n",
       "<style scoped>\n",
       "    .dataframe tbody tr th:only-of-type {\n",
       "        vertical-align: middle;\n",
       "    }\n",
       "\n",
       "    .dataframe tbody tr th {\n",
       "        vertical-align: top;\n",
       "    }\n",
       "\n",
       "    .dataframe thead th {\n",
       "        text-align: right;\n",
       "    }\n",
       "</style>\n",
       "<table border=\"1\" class=\"dataframe\">\n",
       "  <thead>\n",
       "    <tr style=\"text-align: right;\">\n",
       "      <th></th>\n",
       "      <th>v1</th>\n",
       "      <th>v2</th>\n",
       "      <th>Unnamed: 2</th>\n",
       "      <th>Unnamed: 3</th>\n",
       "      <th>Unnamed: 4</th>\n",
       "    </tr>\n",
       "  </thead>\n",
       "  <tbody>\n",
       "    <tr>\n",
       "      <th>0</th>\n",
       "      <td>0</td>\n",
       "      <td>A customer cannot stream a movie if they purc...</td>\n",
       "      <td>NaN</td>\n",
       "      <td>NaN</td>\n",
       "      <td>NaN</td>\n",
       "    </tr>\n",
       "    <tr>\n",
       "      <th>1</th>\n",
       "      <td>0</td>\n",
       "      <td>A database management system such as Oracle D...</td>\n",
       "      <td>NaN</td>\n",
       "      <td>NaN</td>\n",
       "      <td>NaN</td>\n",
       "    </tr>\n",
       "    <tr>\n",
       "      <th>2</th>\n",
       "      <td>0</td>\n",
       "      <td>All credit card information will be not be se...</td>\n",
       "      <td>NaN</td>\n",
       "      <td>NaN</td>\n",
       "      <td>NaN</td>\n",
       "    </tr>\n",
       "    <tr>\n",
       "      <th>3</th>\n",
       "      <td>0</td>\n",
       "      <td>Not all movies shall be streamed on demand at ...</td>\n",
       "      <td>NaN</td>\n",
       "      <td>NaN</td>\n",
       "      <td>NaN</td>\n",
       "    </tr>\n",
       "    <tr>\n",
       "      <th>4</th>\n",
       "      <td>0</td>\n",
       "      <td>An employee is unable to successfully use the...</td>\n",
       "      <td>NaN</td>\n",
       "      <td>NaN</td>\n",
       "      <td>NaN</td>\n",
       "    </tr>\n",
       "    <tr>\n",
       "      <th>5</th>\n",
       "      <td>0</td>\n",
       "      <td>Any interface between a user and the automate...</td>\n",
       "      <td>NaN</td>\n",
       "      <td>NaN</td>\n",
       "      <td>NaN</td>\n",
       "    </tr>\n",
       "    <tr>\n",
       "      <th>6</th>\n",
       "      <td>0</td>\n",
       "      <td>Table constraints like a Primary key, Foreign ...</td>\n",
       "      <td>NaN</td>\n",
       "      <td>NaN</td>\n",
       "      <td>NaN</td>\n",
       "    </tr>\n",
       "    <tr>\n",
       "      <th>7</th>\n",
       "      <td>0</td>\n",
       "      <td>File selection dialog does not show supported ...</td>\n",
       "      <td>NaN</td>\n",
       "      <td>NaN</td>\n",
       "      <td>NaN</td>\n",
       "    </tr>\n",
       "    <tr>\n",
       "      <th>8</th>\n",
       "      <td>0</td>\n",
       "      <td>Field length shown to the user on the page and...</td>\n",
       "      <td>NaN</td>\n",
       "      <td>NaN</td>\n",
       "      <td>NaN</td>\n",
       "    </tr>\n",
       "    <tr>\n",
       "      <th>9</th>\n",
       "      <td>0</td>\n",
       "      <td>Cancel button functionality is not working in ...</td>\n",
       "      <td>NaN</td>\n",
       "      <td>NaN</td>\n",
       "      <td>NaN</td>\n",
       "    </tr>\n",
       "  </tbody>\n",
       "</table>\n",
       "</div>"
      ],
      "text/plain": [
       "   v1                                                 v2 Unnamed: 2  \\\n",
       "0   0   A customer cannot stream a movie if they purc...        NaN   \n",
       "1   0   A database management system such as Oracle D...        NaN   \n",
       "2   0   All credit card information will be not be se...        NaN   \n",
       "3   0  Not all movies shall be streamed on demand at ...        NaN   \n",
       "4   0   An employee is unable to successfully use the...        NaN   \n",
       "5   0   Any interface between a user and the automate...        NaN   \n",
       "6   0  Table constraints like a Primary key, Foreign ...        NaN   \n",
       "7   0  File selection dialog does not show supported ...        NaN   \n",
       "8   0  Field length shown to the user on the page and...        NaN   \n",
       "9   0  Cancel button functionality is not working in ...        NaN   \n",
       "\n",
       "  Unnamed: 3 Unnamed: 4  \n",
       "0        NaN        NaN  \n",
       "1        NaN        NaN  \n",
       "2        NaN        NaN  \n",
       "3        NaN        NaN  \n",
       "4        NaN        NaN  \n",
       "5        NaN        NaN  \n",
       "6        NaN        NaN  \n",
       "7        NaN        NaN  \n",
       "8        NaN        NaN  \n",
       "9        NaN        NaN  "
      ]
     },
     "execution_count": 5,
     "metadata": {},
     "output_type": "execute_result"
    }
   ],
   "source": [
    "#shows the first 10 lines of data\n",
    "df.head(10)"
   ]
  },
  {
   "cell_type": "code",
   "execution_count": 6,
   "id": "c00ae2c9",
   "metadata": {
    "execution": {
     "iopub.execute_input": "2024-12-22T09:37:43.340209Z",
     "iopub.status.busy": "2024-12-22T09:37:43.339155Z",
     "iopub.status.idle": "2024-12-22T09:37:43.352951Z",
     "shell.execute_reply": "2024-12-22T09:37:43.351933Z"
    },
    "papermill": {
     "duration": 0.02098,
     "end_time": "2024-12-22T09:37:43.354995",
     "exception": false,
     "start_time": "2024-12-22T09:37:43.334015",
     "status": "completed"
    },
    "tags": []
   },
   "outputs": [],
   "source": [
    "# Keep only the first and second columns\n",
    "columns_to_keep = ['v1', 'v2']\n",
    "df = df[columns_to_keep]"
   ]
  },
  {
   "cell_type": "code",
   "execution_count": 7,
   "id": "6781868d",
   "metadata": {
    "execution": {
     "iopub.execute_input": "2024-12-22T09:37:43.364492Z",
     "iopub.status.busy": "2024-12-22T09:37:43.364126Z",
     "iopub.status.idle": "2024-12-22T09:37:43.373386Z",
     "shell.execute_reply": "2024-12-22T09:37:43.372241Z"
    },
    "papermill": {
     "duration": 0.016827,
     "end_time": "2024-12-22T09:37:43.375900",
     "exception": false,
     "start_time": "2024-12-22T09:37:43.359073",
     "status": "completed"
    },
    "tags": []
   },
   "outputs": [
    {
     "data": {
      "text/plain": [
       "v1    0\n",
       "v2    0\n",
       "dtype: int64"
      ]
     },
     "execution_count": 7,
     "metadata": {},
     "output_type": "execute_result"
    }
   ],
   "source": [
    "# Checking null values(optional)\n",
    "df.isnull().sum()"
   ]
  },
  {
   "cell_type": "code",
   "execution_count": 8,
   "id": "53dca119",
   "metadata": {
    "execution": {
     "iopub.execute_input": "2024-12-22T09:37:43.386081Z",
     "iopub.status.busy": "2024-12-22T09:37:43.385673Z",
     "iopub.status.idle": "2024-12-22T09:37:43.396982Z",
     "shell.execute_reply": "2024-12-22T09:37:43.395835Z"
    },
    "papermill": {
     "duration": 0.019068,
     "end_time": "2024-12-22T09:37:43.399143",
     "exception": false,
     "start_time": "2024-12-22T09:37:43.380075",
     "status": "completed"
    },
    "tags": []
   },
   "outputs": [
    {
     "data": {
      "text/plain": [
       "v1\n",
       "1    2100\n",
       "0     900\n",
       "Name: count, dtype: int64"
      ]
     },
     "execution_count": 8,
     "metadata": {},
     "output_type": "execute_result"
    }
   ],
   "source": [
    "# To see amount per label(optional) \n",
    "df.v1.value_counts()"
   ]
  },
  {
   "cell_type": "code",
   "execution_count": 9,
   "id": "dd0c1beb",
   "metadata": {
    "execution": {
     "iopub.execute_input": "2024-12-22T09:37:43.409120Z",
     "iopub.status.busy": "2024-12-22T09:37:43.408756Z",
     "iopub.status.idle": "2024-12-22T09:37:47.148709Z",
     "shell.execute_reply": "2024-12-22T09:37:47.146722Z"
    },
    "papermill": {
     "duration": 3.748045,
     "end_time": "2024-12-22T09:37:47.151369",
     "exception": false,
     "start_time": "2024-12-22T09:37:43.403324",
     "status": "completed"
    },
    "tags": []
   },
   "outputs": [
    {
     "name": "stdout",
     "output_type": "stream",
     "text": [
      "\n",
      "Results for Multinomial Naive Bayes:\n",
      "Accuracy: 0.8\n",
      "Classification Report:\n",
      "               precision    recall  f1-score   support\n",
      "\n",
      "           0       0.89      0.43      0.58       288\n",
      "           1       0.78      0.97      0.87       612\n",
      "\n",
      "    accuracy                           0.80       900\n",
      "   macro avg       0.83      0.70      0.72       900\n",
      "weighted avg       0.82      0.80      0.78       900\n",
      "\n",
      "\n",
      "Results for Decision Tree:\n",
      "Accuracy: 0.9266666666666666\n",
      "Classification Report:\n",
      "               precision    recall  f1-score   support\n",
      "\n",
      "           0       0.91      0.85      0.88       288\n",
      "           1       0.93      0.96      0.95       612\n",
      "\n",
      "    accuracy                           0.93       900\n",
      "   macro avg       0.92      0.91      0.91       900\n",
      "weighted avg       0.93      0.93      0.93       900\n",
      "\n",
      "\n",
      "Results for Random Forest:\n",
      "Accuracy: 0.9033333333333333\n",
      "Classification Report:\n",
      "               precision    recall  f1-score   support\n",
      "\n",
      "           0       0.93      0.75      0.83       288\n",
      "           1       0.89      0.97      0.93       612\n",
      "\n",
      "    accuracy                           0.90       900\n",
      "   macro avg       0.91      0.86      0.88       900\n",
      "weighted avg       0.91      0.90      0.90       900\n",
      "\n",
      "\n",
      "Results for Support Vector Machine:\n",
      "Accuracy: 0.8677777777777778\n",
      "Classification Report:\n",
      "               precision    recall  f1-score   support\n",
      "\n",
      "           0       0.92      0.64      0.76       288\n",
      "           1       0.85      0.97      0.91       612\n",
      "\n",
      "    accuracy                           0.87       900\n",
      "   macro avg       0.89      0.81      0.83       900\n",
      "weighted avg       0.87      0.87      0.86       900\n",
      "\n",
      "\n",
      "Results for Logistic Regression:\n",
      "Accuracy: 0.8655555555555555\n",
      "Classification Report:\n",
      "               precision    recall  f1-score   support\n",
      "\n",
      "           0       0.96      0.61      0.74       288\n",
      "           1       0.84      0.99      0.91       612\n",
      "\n",
      "    accuracy                           0.87       900\n",
      "   macro avg       0.90      0.80      0.83       900\n",
      "weighted avg       0.88      0.87      0.86       900\n",
      "\n",
      "\n",
      "Results for XGBoost:\n",
      "Accuracy: 0.9333333333333333\n",
      "Classification Report:\n",
      "               precision    recall  f1-score   support\n",
      "\n",
      "           0       0.95      0.84      0.89       288\n",
      "           1       0.93      0.98      0.95       612\n",
      "\n",
      "    accuracy                           0.93       900\n",
      "   macro avg       0.94      0.91      0.92       900\n",
      "weighted avg       0.93      0.93      0.93       900\n",
      "\n"
     ]
    }
   ],
   "source": [
    "# Model Development\n",
    "\n",
    "# Import necessary libraries\n",
    "import pandas as pd\n",
    "from sklearn.feature_extraction.text import CountVectorizer, TfidfTransformer\n",
    "from sklearn.ensemble import RandomForestClassifier\n",
    "from sklearn.naive_bayes import MultinomialNB\n",
    "from sklearn.tree import DecisionTreeClassifier\n",
    "from sklearn.svm import SVC\n",
    "from sklearn.linear_model import LogisticRegression\n",
    "from xgboost import XGBClassifier\n",
    "from sklearn.pipeline import Pipeline\n",
    "from sklearn.model_selection import train_test_split\n",
    "from sklearn.metrics import accuracy_score, classification_report\n",
    "import matplotlib.pyplot as plt\n",
    "\n",
    "# Define classifiers\n",
    "classifiers = {\n",
    "    'Multinomial Naive Bayes': MultinomialNB(),\n",
    "    'Decision Tree': DecisionTreeClassifier(),\n",
    "    'Random Forest': RandomForestClassifier(),\n",
    "    'Support Vector Machine': SVC(),\n",
    "    'Logistic Regression': LogisticRegression(),\n",
    "    'XGBoost': XGBClassifier(use_label_encoder=False, eval_metric='mlogloss')\n",
    "}\n",
    "\n",
    "# Store results in a structured format\n",
    "results = []\n",
    "\n",
    "# Iterate through classifiers\n",
    "for name, clf in classifiers.items():\n",
    "    # Build a corpus from the 'Test Case/v2' column\n",
    "    corpus = df['v2'].tolist()\n",
    "\n",
    "    # Create a Bag-of-Words model using CountVectorizer(to convert the text data into numerical features) \n",
    "    # and TfidfTransformer(commonly used to normalize and scale the term frequencies)\n",
    "    vectorizer = CountVectorizer()\n",
    "    transformer = TfidfTransformer()\n",
    "    classifier = clf\n",
    "\n",
    "    # Create a pipeline with a text feature vectorizer (CountVectorizer), TfidfTransformer, and the classifier\n",
    "    model = Pipeline([\n",
    "        ('vectorizer', vectorizer),\n",
    "        ('transformer', transformer),\n",
    "        ('classifier', classifier)\n",
    "    ])\n",
    "\n",
    "    # Split the dataset into training and testing sets\n",
    "    X_train, X_test, y_train, y_test = train_test_split(corpus, df['v1'], test_size=0.3, random_state=42)\n",
    "\n",
    "    # Train the model\n",
    "    model.fit(X_train, y_train)\n",
    "\n",
    "    # Make predictions on the test set\n",
    "    predictions = model.predict(X_test)\n",
    "\n",
    "    # Evaluate the model\n",
    "    accuracy = accuracy_score(y_test, predictions)\n",
    "    report = classification_report(y_test, predictions)\n",
    "\n",
    "    print(f'\\nResults for {name}:')\n",
    "    print(f'Accuracy: {accuracy}')\n",
    "    print('Classification Report:\\n', report)\n",
    "\n",
    "    # Append results to the list\n",
    "    results.append({\n",
    "        'Model': name,\n",
    "        'Accuracy': accuracy,\n",
    "        'Report': report\n",
    "    })\n",
    "\n",
    "\n"
   ]
  },
  {
   "cell_type": "code",
   "execution_count": 10,
   "id": "62d32605",
   "metadata": {
    "execution": {
     "iopub.execute_input": "2024-12-22T09:37:47.162081Z",
     "iopub.status.busy": "2024-12-22T09:37:47.161696Z",
     "iopub.status.idle": "2024-12-22T09:37:47.644403Z",
     "shell.execute_reply": "2024-12-22T09:37:47.643097Z"
    },
    "papermill": {
     "duration": 0.491039,
     "end_time": "2024-12-22T09:37:47.647020",
     "exception": false,
     "start_time": "2024-12-22T09:37:47.155981",
     "status": "completed"
    },
    "tags": []
   },
   "outputs": [
    {
     "data": {
      "image/png": "[encoded data removed]",
      "text/plain": [
       "<Figure size 1000x600 with 1 Axes>"
      ]
     },
     "metadata": {},
     "output_type": "display_data"
    }
   ],
   "source": [
    "# Save results to a file\n",
    "results_df = pd.DataFrame([{\"Model\": res[\"Model\"], \"Accuracy\": res[\"Accuracy\"]} for res in results])\n",
    "results_df.to_csv(\"results_summary.csv\", index=False)\n",
    "\n",
    "# Plot the accuracy of each model\n",
    "plt.figure(figsize=(10, 6))\n",
    "plt.bar(results_df[\"Model\"], results_df[\"Accuracy\"], color='skyblue')\n",
    "plt.xlabel(\"Model\")\n",
    "plt.ylabel(\"Accuracy\")\n",
    "plt.title(\"Model Accuracy Comparison\")\n",
    "plt.xticks(rotation=45)\n",
    "plt.tight_layout()\n",
    "plt.savefig(\"accuracy_comparison.png\")\n",
    "plt.show()"
   ]
  },
  {
   "cell_type": "code",
   "execution_count": 11,
   "id": "f452d5f9",
   "metadata": {
    "execution": {
     "iopub.execute_input": "2024-12-22T09:37:47.659118Z",
     "iopub.status.busy": "2024-12-22T09:37:47.658726Z",
     "iopub.status.idle": "2024-12-22T09:37:47.663995Z",
     "shell.execute_reply": "2024-12-22T09:37:47.662848Z"
    },
    "papermill": {
     "duration": 0.01392,
     "end_time": "2024-12-22T09:37:47.666087",
     "exception": false,
     "start_time": "2024-12-22T09:37:47.652167",
     "status": "completed"
    },
    "tags": []
   },
   "outputs": [],
   "source": [
    "# # Use Decision Tree \n",
    "\n",
    "# classifier = DecisionTreeClassifier()\n",
    "\n",
    "# # Create a pipeline with a text feature vectorizer (CountVectorizer), TfidfTransformer, and the Decision Tree classifier\n",
    "# model = Pipeline([\n",
    "#     ('vectorizer', vectorizer),\n",
    "#     ('transformer', transformer),\n",
    "#     ('classifier', classifier)\n",
    "# ])\n",
    "\n",
    "# # Split the dataset into training and testing sets\n",
    "# X_train, X_test, y_train, y_test = train_test_split(corpus, df['v1'], test_size=0.3, random_state=42)\n",
    "\n",
    "# # Train the model\n",
    "# model.fit(X_train, y_train)\n",
    "\n",
    "# # Save the trained model to a file\n",
    "# # Use joblib to save and load the model\n",
    "# import joblib  \n",
    "# joblib.dump(model, 'decision_tree_model.pkl')"
   ]
  },
  {
   "cell_type": "code",
   "execution_count": 12,
   "id": "95f8ba23",
   "metadata": {
    "execution": {
     "iopub.execute_input": "2024-12-22T09:37:47.678582Z",
     "iopub.status.busy": "2024-12-22T09:37:47.678164Z",
     "iopub.status.idle": "2024-12-22T09:37:47.683450Z",
     "shell.execute_reply": "2024-12-22T09:37:47.682294Z"
    },
    "papermill": {
     "duration": 0.01424,
     "end_time": "2024-12-22T09:37:47.685585",
     "exception": false,
     "start_time": "2024-12-22T09:37:47.671345",
     "status": "completed"
    },
    "tags": []
   },
   "outputs": [],
   "source": [
    "# # # Later on(if you want to build an interface), when you want to use the model for predictions:\n",
    "\n",
    "# # # Load the trained model from the file\n",
    "# loaded_model = joblib.load('decision_tree_model.pkl')\n",
    "\n",
    "# # # Input a new test case\n",
    "# single_test_case = [input(\"Enter your test case: \")]\n",
    "\n",
    "# # # Make predictions using the loaded model\n",
    "# prediction = loaded_model.predict(single_test_case)\n",
    "\n",
    "# # # Display the result\n",
    "# print(f'Test Case: {single_test_case[0]}')\n",
    "# print(f'Prediction: {prediction[0]}')\n"
   ]
  },
  {
   "cell_type": "code",
   "execution_count": 13,
   "id": "25dc2624",
   "metadata": {
    "execution": {
     "iopub.execute_input": "2024-12-22T09:37:47.697787Z",
     "iopub.status.busy": "2024-12-22T09:37:47.697403Z",
     "iopub.status.idle": "2024-12-22T09:37:47.702488Z",
     "shell.execute_reply": "2024-12-22T09:37:47.701307Z"
    },
    "papermill": {
     "duration": 0.013981,
     "end_time": "2024-12-22T09:37:47.704946",
     "exception": false,
     "start_time": "2024-12-22T09:37:47.690965",
     "status": "completed"
    },
    "tags": []
   },
   "outputs": [],
   "source": [
    "# # # Later on(if you want to build an interface), when you want to use the model for predictions:\n",
    "\n",
    "# # # Load the trained model from the file\n",
    "# loaded_model = joblib.load('decision_tree_model.pkl')\n",
    "\n",
    "# # # Input a new test case\n",
    "# single_test_case = [input(\"Enter your test case: \")]\n",
    "\n",
    "# # # Make predictions using the loaded model\n",
    "# prediction = loaded_model.predict(single_test_case)\n",
    "\n",
    "# # # Display the result\n",
    "# print(f'Test Case: {single_test_case[0]}')\n",
    "# print(f'Prediction: {prediction[0]}')"
   ]
  },
  {
   "cell_type": "code",
   "execution_count": null,
   "id": "7d996d97",
   "metadata": {
    "papermill": {
     "duration": 0.005084,
     "end_time": "2024-12-22T09:37:47.715485",
     "exception": false,
     "start_time": "2024-12-22T09:37:47.710401",
     "status": "completed"
    },
    "tags": []
   },
   "outputs": [],
   "source": []
  }
 ],
 "metadata": {
  "kaggle": {
   "accelerator": "none",
   "dataSources": [
    {
     "datasetId": 3019493,
     "sourceId": 5193109,
     "sourceType": "datasetVersion"
    }
   ],
   "dockerImageVersionId": 30579,
   "isGpuEnabled": false,
   "isInternetEnabled": false,
   "language": "python",
   "sourceType": "notebook"
  },
  "kernelspec": {
   "display_name": "Python 3",
   "language": "python",
   "name": "python3"
  },
  "language_info": {
   "codemirror_mode": {
    "name": "ipython",
    "version": 3
   },
   "file_extension": ".py",
   "mimetype": "text/x-python",
   "name": "python",
   "nbconvert_exporter": "python",
   "pygments_lexer": "ipython3",
   "version": "3.10.12"
  },
  "papermill": {
   "default_parameters": {},
   "duration": 11.110498,
   "end_time": "2024-12-22T09:37:48.342817",
   "environment_variables": {},
   "exception": null,
   "input_path": "__notebook__.ipynb",
   "output_path": "__notebook__.ipynb",
   "parameters": {},
   "start_time": "2024-12-22T09:37:37.232319",
   "version": "2.4.0"
  }
 },
 "nbformat": 4,
 "nbformat_minor": 5
}
